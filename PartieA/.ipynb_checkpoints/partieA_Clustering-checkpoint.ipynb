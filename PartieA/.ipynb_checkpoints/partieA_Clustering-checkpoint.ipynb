{
 "cells": [
  {
   "cell_type": "markdown",
   "id": "6f044cb3",
   "metadata": {},
   "source": [
    "Clustering des clients d'un centre commercial avec K-means"
   ]
  },
  {
   "cell_type": "code",
   "execution_count": null,
   "id": "d42cd776",
   "metadata": {
    "lines_to_next_cell": 2
   },
   "outputs": [],
   "source": [
    "import pandas as pd\n",
    "import numpy as np\n",
    "import matplotlib.pyplot as plt\n",
    "import seaborn as sns\n",
    "from sklearn.preprocessing import StandardScaler\n",
    "from sklearn.decomposition import PCA\n",
    "from sklearn.cluster import KMeans\n",
    "from sklearn.metrics import silhouette_score"
   ]
  },
  {
   "cell_type": "code",
   "execution_count": null,
   "id": "a4915d6f",
   "metadata": {},
   "outputs": [],
   "source": [
    "# ------------------------------------------------------------------------------\n",
    "# 1. Chargement des données\n",
    "# ------------------------------------------------------------------------------\n",
    "print(\"1-CHARGEMENT : Lecture du fichier 'Mall_Customers.csv'...\")\n",
    "data = pd.read_csv(\"Mall_Customers.csv\")\n",
    "print(\"Aperçu des données :\\n\", data.head())"
   ]
  },
  {
   "cell_type": "code",
   "execution_count": null,
   "id": "fbdf13e0",
   "metadata": {},
   "outputs": [],
   "source": [
    "# ------------------------------------------------------------------------------\n",
    "# 2. Nettoyage et prétraitement\n",
    "# ------------------------------------------------------------------------------\n",
    "print(\"\\n2-NETTOYAGE : Vérification des valeurs manquantes et standardisation...\")"
   ]
  },
  {
   "cell_type": "code",
   "execution_count": null,
   "id": "b1be1a7b",
   "metadata": {},
   "outputs": [],
   "source": [
    "# **Valeurs manquantes**\n",
    "missing_values = data.isnull().sum()\n",
    "print(\"Valeurs manquantes par colonne :\\n\", missing_values)\n",
    "if missing_values.any():\n",
    "    print(\"\\n Attention : Valeurs manquantes détectées. Suppression ou imputation recommandée.\")\n",
    "    data.dropna(inplace=True)  # Suppression simple (à adapter si nécessaire)"
   ]
  },
  {
   "cell_type": "code",
   "execution_count": null,
   "id": "f5fdba67",
   "metadata": {},
   "outputs": [],
   "source": [
    "# **Standardisation des variables quantitatives**\n",
    "scaler = StandardScaler()\n",
    "features_to_scale = [\"Age\", \"Annual Income (k$)\", \"Spending Score (1-100)\"]\n",
    "scaled_features = scaler.fit_transform(data[features_to_scale])\n",
    "scaled_data = pd.DataFrame(scaled_features, columns=features_to_scale)"
   ]
  },
  {
   "cell_type": "code",
   "execution_count": null,
   "id": "3c9e5363",
   "metadata": {},
   "outputs": [],
   "source": [
    "# **Optionnel : Encodage de 'Gender' (0/1)**\n",
    "scaled_data[\"Gender\"] = data[\"Gender\"].map({\"Male\": 1, \"Female\": 0})"
   ]
  },
  {
   "cell_type": "code",
   "execution_count": null,
   "id": "c7b74f20",
   "metadata": {},
   "outputs": [],
   "source": [
    "# ------------------------------------------------------------------------------\n",
    "# 3. EDA (Exploratory Data Analysis)\n",
    "# ------------------------------------------------------------------------------\n",
    "print(\"\\n3-EDA : Analyse exploratoire avec histogrammes, boxplots et corrélations...\")"
   ]
  },
  {
   "cell_type": "code",
   "execution_count": null,
   "id": "0f1dc419",
   "metadata": {},
   "outputs": [],
   "source": [
    "# **Histogrammes**\n",
    "for col in features_to_scale:\n",
    "    plt.figure()\n",
    "    sns.histplot(data[col], kde=True, bins=20)\n",
    "    plt.title(f\"Distribution de {col}\")\n",
    "  #  plt.savefig(f\"hist_{col}.png\")"
   ]
  },
  {
   "cell_type": "code",
   "execution_count": null,
   "id": "9d4f52f2",
   "metadata": {},
   "outputs": [],
   "source": [
    "# **Boxplots**\n",
    "plt.figure(figsize=(15, 5))\n",
    "for i, col in enumerate(features_to_scale, 1):\n",
    "    plt.subplot(1, 3, i)\n",
    "    sns.boxplot(y=data[col])\n",
    "    plt.title(f\"Boxplot de {col}\")\n",
    "#plt.savefig(\"boxplots.png\")\n",
    "plt.show()"
   ]
  },
  {
   "cell_type": "code",
   "execution_count": null,
   "id": "68d5b72d",
   "metadata": {},
   "outputs": [],
   "source": [
    "# **Matrice de corrélation et scatter plot**\n",
    "sns.pairplot(data, hue=\"Gender\", diag_kind=\"kde\")\n",
    "#plt.savefig(\"pairplot.png\")\n",
    "plt.show()"
   ]
  },
  {
   "cell_type": "code",
   "execution_count": null,
   "id": "c3574cf1",
   "metadata": {},
   "outputs": [],
   "source": [
    "# ------------------------------------------------------------------------------\n",
    "# 4. Feature Engineering\n",
    "# ------------------------------------------------------------------------------\n",
    "print(\"\\n4-FEATURE ENGINEERING : Suppression de colonnes et création de classes...\")"
   ]
  },
  {
   "cell_type": "code",
   "execution_count": null,
   "id": "16bf5b51",
   "metadata": {},
   "outputs": [],
   "source": [
    "# **Suppression de 'CustomerID' (non informatif)**\n",
    "data.drop(\"CustomerID\", axis=1, inplace=True)"
   ]
  },
  {
   "cell_type": "code",
   "execution_count": null,
   "id": "80e5e42b",
   "metadata": {},
   "outputs": [],
   "source": [
    "# **Création de classes d'âge (optionnel)**\n",
    "data[\"AgeGroup\"] = pd.cut(data[\"Age\"], bins=[0, 30, 50, 100], labels=[\"Jeune\", \"Adulte\", \"Senior\"])\n",
    "print(\"\\nRépartition des classes d'âge :\\n\", data[\"AgeGroup\"].value_counts())"
   ]
  },
  {
   "cell_type": "code",
   "execution_count": null,
   "id": "3b00a2a0",
   "metadata": {},
   "outputs": [],
   "source": [
    "# ------------------------------------------------------------------------------\n",
    "# 5. Réduction de dimension (PCA)\n",
    "# ------------------------------------------------------------------------------\n",
    "print(\"\\n5-PCA : Réduction en 2D pour visualisation...\")"
   ]
  },
  {
   "cell_type": "code",
   "execution_count": null,
   "id": "26241b70",
   "metadata": {},
   "outputs": [],
   "source": [
    "pca = PCA(n_components=2)\n",
    "pca_result = pca.fit_transform(scaled_data[features_to_scale])\n",
    "pca_df = pd.DataFrame(pca_result, columns=[\"PC1\", \"PC2\"])"
   ]
  },
  {
   "cell_type": "code",
   "execution_count": null,
   "id": "73e5fea6",
   "metadata": {},
   "outputs": [],
   "source": [
    "plt.figure()\n",
    "sns.scatterplot(x=\"PC1\", y=\"PC2\", data=pca_df, alpha=0.7)\n",
    "plt.title(\"Projection PCA en 2D\")\n",
    "#plt.savefig(\"pca_plot.png\")\n",
    "plt.show()"
   ]
  },
  {
   "cell_type": "code",
   "execution_count": null,
   "id": "98091e07",
   "metadata": {},
   "outputs": [],
   "source": [
    "# ------------------------------------------------------------------------------\n",
    "# 6. Clustering (K-means avec k de 2 à 6)\n",
    "# ------------------------------------------------------------------------------\n",
    "print(\"\\n6-CLUSTERING : K-means avec k de 2 à 6 + évaluation (Elbow/Silhouette)...\")"
   ]
  },
  {
   "cell_type": "code",
   "execution_count": null,
   "id": "202e29d6",
   "metadata": {},
   "outputs": [],
   "source": [
    "# **Méthode Elbow**\n",
    "inertias = []\n",
    "for k in range(2, 7):  # k de 2 à 6 comme demandé\n",
    "    kmeans = KMeans(n_clusters=k, random_state=42)\n",
    "    kmeans.fit(scaled_data[features_to_scale])\n",
    "    inertias.append(kmeans.inertia_)\n",
    "    print(f\" - k={k} : Inertie = {kmeans.inertia_:.2f}\")"
   ]
  },
  {
   "cell_type": "code",
   "execution_count": null,
   "id": "86791c93",
   "metadata": {},
   "outputs": [],
   "source": [
    "plt.figure()\n",
    "plt.plot(range(2, 7), inertias, marker=\"o\")\n",
    "plt.xlabel(\"Nombre de clusters (k)\")\n",
    "plt.ylabel(\"Inertie\")\n",
    "plt.title(\"Méthode Elbow\")\n",
    "#plt.savefig(\"elbow_method.png\")\n",
    "plt.show()"
   ]
  },
  {
   "cell_type": "code",
   "execution_count": null,
   "id": "9b376c69",
   "metadata": {},
   "outputs": [],
   "source": [
    "# **Score Silhouette**\n",
    "silhouette_scores = []\n",
    "for k in range(2, 7):  # k de 2 à 6\n",
    "    kmeans = KMeans(n_clusters=k, random_state=42)\n",
    "    labels = kmeans.fit_predict(scaled_data[features_to_scale])\n",
    "    score = silhouette_score(scaled_data[features_to_scale], labels)\n",
    "    silhouette_scores.append(score)\n",
    "    print(f\" - k={k} : Score Silhouette = {score:.2f}\")"
   ]
  },
  {
   "cell_type": "code",
   "execution_count": null,
   "id": "318a0e79",
   "metadata": {},
   "outputs": [],
   "source": [
    "plt.figure()\n",
    "plt.plot(range(2, 7), silhouette_scores, marker=\"o\")\n",
    "plt.xlabel(\"Nombre de clusters (k)\")\n",
    "plt.ylabel(\"Score Silhouette\")\n",
    "plt.title(\"Score Silhouette\")\n",
    "#plt.savefig(\"silhouette_score.png\")\n",
    "plt.show()"
   ]
  },
  {
   "cell_type": "code",
   "execution_count": null,
   "id": "29fea867",
   "metadata": {},
   "outputs": [],
   "source": [
    "# **Choix final de k=5** (optimal pour ce dataset)\n",
    "kmeans = KMeans(n_clusters=5, random_state=42)\n",
    "data[\"Cluster\"] = kmeans.fit_predict(scaled_data[features_to_scale])"
   ]
  },
  {
   "cell_type": "code",
   "execution_count": null,
   "id": "2ba64c64",
   "metadata": {},
   "outputs": [],
   "source": [
    "# ------------------------------------------------------------------------------\n",
    "# 7. Interprétation des clusters\n",
    "# ------------------------------------------------------------------------------\n",
    "print(\"\\n7-INTERPRÉTATION : Analyse des centroïdes et visualisation...\")"
   ]
  },
  {
   "cell_type": "code",
   "execution_count": null,
   "id": "ea96c22d",
   "metadata": {},
   "outputs": [],
   "source": [
    "# **Centroïdes dans l'espace original**\n",
    "cluster_means = data.groupby(\"Cluster\")[features_to_scale].mean()\n",
    "print(\"\\nCentroïdes des clusters :\\n\", cluster_means)"
   ]
  },
  {
   "cell_type": "code",
   "execution_count": null,
   "id": "80c27c83",
   "metadata": {},
   "outputs": [],
   "source": [
    "# **Visualisation des clusters en 2D (PCA)**\n",
    "pca_df[\"Cluster\"] = data[\"Cluster\"]\n",
    "plt.figure()\n",
    "sns.scatterplot(x=\"PC1\", y=\"PC2\", hue=\"Cluster\", data=pca_df, palette=\"viridis\")\n",
    "plt.title(\"Clusters des clients (PCA)\")\n",
    "#plt.savefig(\"clusters_pca.png\")\n",
    "plt.show()"
   ]
  },
  {
   "cell_type": "code",
   "execution_count": null,
   "id": "0db4151f",
   "metadata": {},
   "outputs": [],
   "source": [
    "# ------------------------------------------------------------------------------\n",
    "# 8. Conclusions\n",
    "# ------------------------------------------------------------------------------\n",
    "print(\"\\n8-CONCLUSIONS : Synthèse et suggestions...\")"
   ]
  },
  {
   "cell_type": "code",
   "execution_count": null,
   "id": "7b1e7073",
   "metadata": {},
   "outputs": [],
   "source": [
    "print(\"\"\"\n",
    "**Résultats** :\n",
    "- 5 clusters identifiés avec des profils distincts (voir centroïdes).\n",
    "- Visualisation PCA confirmant la séparation des groupes.\n",
    "\n",
    "**Suggestions** :\n",
    "- Approfondir avec des données supplémentaires (ex: historique d'achats).\n",
    "- Tester DBSCAN pour détecter des clusters non convexes.\n",
    "\"\"\")"
   ]
  },
  {
   "cell_type": "code",
   "execution_count": null,
   "id": "32bc4a07",
   "metadata": {},
   "outputs": [],
   "source": [
    "# Sauvegarde des données avec clusters\n",
    "data.to_csv(\"Mall_Customers_Clustered.csv\", index=False)\n",
    "print(\"\\n✅ Fichier sauvegardé : 'Mall_Customers_Clustered.csv'\")"
   ]
  }
 ],
 "metadata": {
  "jupytext": {
   "cell_metadata_filter": "-all",
   "main_language": "python",
   "notebook_metadata_filter": "-all"
  }
 },
 "nbformat": 4,
 "nbformat_minor": 5
}
